{
 "cells": [
  {
   "cell_type": "markdown",
   "id": "cbed7ab7",
   "metadata": {},
   "source": [
    "# 파스칼의 삼각형과 신기방기한 5개의 코드"
   ]
  },
  {
   "cell_type": "markdown",
   "id": "9a341088",
   "metadata": {},
   "source": [
    "### 우선, 파스칼의 삼각형을 만들어 보자."
   ]
  },
  {
   "cell_type": "code",
   "execution_count": null,
   "id": "8d7cff36",
   "metadata": {},
   "outputs": [],
   "source": [
    "def make_triangle(n):\n",
    "    T = [[0] * (i + 1) for i in range(n + 1)]\n",
    "    for i in range(len(T)):\n",
    "        for j in range(len(T[i])):\n",
    "            if j == 0 or j == i:\n",
    "                T[i][j] = 1\n",
    "            else:\n",
    "                T[i][j] = T[i - 1][j - 1] + T[i - 1][j]\n",
    "    return T"
   ]
  },
  {
   "cell_type": "code",
   "execution_count": null,
   "id": "2d904169",
   "metadata": {},
   "outputs": [],
   "source": [
    "n = int(input(\"Input the number of n: \"))\n",
    "T = make_triangle(n)\n",
    "for i in range(len(T)):\n",
    "    for j in range(len(T[i])):\n",
    "        print(T[i][j], end = \" \")\n",
    "    print()"
   ]
  },
  {
   "cell_type": "markdown",
   "id": "56086250",
   "metadata": {},
   "source": []
  },
  {
   "cell_type": "code",
   "execution_count": null,
   "id": "69f0a216",
   "metadata": {},
   "outputs": [
    {
     "ename": "NameError",
     "evalue": "name 'n' is not defined",
     "output_type": "error",
     "traceback": [
      "\u001b[1;31m---------------------------------------------------------------------------\u001b[0m",
      "\u001b[1;31mNameError\u001b[0m                                 Traceback (most recent call last)",
      "\u001b[1;32m~\\AppData\\Local\\Temp/ipykernel_17432/3696515468.py\u001b[0m in \u001b[0;36m<module>\u001b[1;34m\u001b[0m\n\u001b[0;32m      1\u001b[0m \u001b[1;32mfrom\u001b[0m \u001b[0mmath\u001b[0m \u001b[1;32mimport\u001b[0m \u001b[0mfactorial\u001b[0m\u001b[1;33m\u001b[0m\u001b[1;33m\u001b[0m\u001b[0m\n\u001b[1;32m----> 2\u001b[1;33m \u001b[1;32mfor\u001b[0m \u001b[0mi\u001b[0m \u001b[1;32min\u001b[0m \u001b[0mrange\u001b[0m\u001b[1;33m(\u001b[0m\u001b[0mn\u001b[0m \u001b[1;33m+\u001b[0m \u001b[1;36m1\u001b[0m\u001b[1;33m)\u001b[0m\u001b[1;33m:\u001b[0m\u001b[1;33m\u001b[0m\u001b[1;33m\u001b[0m\u001b[0m\n\u001b[0m\u001b[0;32m      3\u001b[0m     \u001b[1;32mfor\u001b[0m \u001b[0mj\u001b[0m \u001b[1;32min\u001b[0m \u001b[0mrange\u001b[0m\u001b[1;33m(\u001b[0m\u001b[0mi\u001b[0m \u001b[1;33m+\u001b[0m \u001b[1;36m1\u001b[0m\u001b[1;33m)\u001b[0m\u001b[1;33m:\u001b[0m\u001b[1;33m\u001b[0m\u001b[1;33m\u001b[0m\u001b[0m\n\u001b[0;32m      4\u001b[0m         \u001b[0miCj\u001b[0m \u001b[1;33m=\u001b[0m \u001b[0mfactorial\u001b[0m\u001b[1;33m(\u001b[0m\u001b[0mi\u001b[0m\u001b[1;33m)\u001b[0m \u001b[1;33m//\u001b[0m \u001b[0mfactorial\u001b[0m\u001b[1;33m(\u001b[0m\u001b[0mj\u001b[0m\u001b[1;33m)\u001b[0m \u001b[1;33m//\u001b[0m \u001b[0mfactorial\u001b[0m\u001b[1;33m(\u001b[0m\u001b[0mi\u001b[0m \u001b[1;33m-\u001b[0m \u001b[0mj\u001b[0m\u001b[1;33m)\u001b[0m\u001b[1;33m\u001b[0m\u001b[1;33m\u001b[0m\u001b[0m\n\u001b[0;32m      5\u001b[0m         \u001b[0mprint\u001b[0m\u001b[1;33m(\u001b[0m\u001b[0miCj\u001b[0m\u001b[1;33m,\u001b[0m \u001b[0mend\u001b[0m \u001b[1;33m=\u001b[0m \u001b[1;34m\" \"\u001b[0m\u001b[1;33m)\u001b[0m\u001b[1;33m\u001b[0m\u001b[1;33m\u001b[0m\u001b[0m\n",
      "\u001b[1;31mNameError\u001b[0m: name 'n' is not defined"
     ]
    }
   ],
   "source": [
    "from math import factorial\n",
    "for i in range(n + 1):\n",
    "    for j in range(i + 1):\n",
    "        iCj = factorial(i) // factorial(j) // factorial(i - j)\n",
    "        print(iCj, end = \" \")\n",
    "    print()        "
   ]
  },
  {
   "cell_type": "markdown",
   "id": "3291a4a1",
   "metadata": {},
   "source": [
    "### Code 2. n번째 행의 모든 수들을 합하면?"
   ]
  },
  {
   "cell_type": "code",
   "execution_count": null,
   "id": "f4374982",
   "metadata": {},
   "outputs": [],
   "source": [
    "for i in range(n + 1):\n",
    "    print(sum(T[i]), end = \" \")"
   ]
  },
  {
   "cell_type": "code",
   "execution_count": 1,
   "id": "34790ce7",
   "metadata": {},
   "outputs": [
    {
     "ename": "NameError",
     "evalue": "name 'n' is not defined",
     "output_type": "error",
     "traceback": [
      "\u001b[1;31m---------------------------------------------------------------------------\u001b[0m",
      "\u001b[1;31mNameError\u001b[0m                                 Traceback (most recent call last)",
      "\u001b[1;32m~\\AppData\\Local\\Temp/ipykernel_35760/4189074266.py\u001b[0m in \u001b[0;36m<module>\u001b[1;34m\u001b[0m\n\u001b[1;32m----> 1\u001b[1;33m \u001b[1;32mfor\u001b[0m \u001b[0mi\u001b[0m \u001b[1;32min\u001b[0m \u001b[0mrange\u001b[0m\u001b[1;33m(\u001b[0m\u001b[0mn\u001b[0m \u001b[1;33m+\u001b[0m \u001b[1;36m1\u001b[0m\u001b[1;33m)\u001b[0m\u001b[1;33m:\u001b[0m\u001b[1;33m\u001b[0m\u001b[1;33m\u001b[0m\u001b[0m\n\u001b[0m\u001b[0;32m      2\u001b[0m     \u001b[0mprint\u001b[0m\u001b[1;33m(\u001b[0m\u001b[1;36m2\u001b[0m \u001b[1;33m**\u001b[0m \u001b[0mi\u001b[0m\u001b[1;33m,\u001b[0m \u001b[0mend\u001b[0m \u001b[1;33m=\u001b[0m \u001b[1;34m\" \"\u001b[0m\u001b[1;33m)\u001b[0m\u001b[1;33m\u001b[0m\u001b[1;33m\u001b[0m\u001b[0m\n",
      "\u001b[1;31mNameError\u001b[0m: name 'n' is not defined"
     ]
    }
   ],
   "source": [
    "for i in range(n + 1):\n",
    "    print(2 ** i, end = \" \")"
   ]
  },
  {
   "cell_type": "markdown",
   "id": "3509a28d",
   "metadata": {},
   "source": [
    "결론: 파스칼의 삼각형에서 n번째 행의 수들을 모두 합하면 2^n과 같다."
   ]
  },
  {
   "cell_type": "markdown",
   "id": "5876a335",
   "metadata": {},
   "source": [
    "### Code 3. n번째 행의 모든 수들을 십의 자리수로 만들면?"
   ]
  },
  {
   "cell_type": "code",
   "execution_count": null,
   "id": "fd6a1c31",
   "metadata": {},
   "outputs": [],
   "source": [
    "for i in range(n + 1):\n",
    "    S = 0\n",
    "    for j in range(i + 1):\n",
    "        S += T[i][j] * (10 ** (i - j))\n",
    "    print(S)"
   ]
  },
  {
   "cell_type": "code",
   "execution_count": null,
   "id": "b4855508",
   "metadata": {},
   "outputs": [],
   "source": [
    "for i in range(n + 1):\n",
    "    print(11 ** i)"
   ]
  },
  {
   "cell_type": "markdown",
   "id": "481f103d",
   "metadata": {},
   "source": [
    "결론: 파스칼의 삼각형에서 n번째 행의 수들을 십의 자리수로 합하면 11^n이 된다."
   ]
  },
  {
   "cell_type": "markdown",
   "id": "f8b41ec1",
   "metadata": {},
   "source": [
    "### Code 4. n번째 행의 첫 항부터 대각선으로 더하면? "
   ]
  },
  {
   "cell_type": "code",
   "execution_count": null,
   "id": "711cd1ee",
   "metadata": {},
   "outputs": [],
   "source": [
    "for i in range(n + 1):\n",
    "    row, col = i, 0\n",
    "    S = 0\n",
    "    while row >= 0 and col <= row:\n",
    "        S += T[row][col]\n",
    "        row, col = row - 1, col + 1\n",
    "    print(S, end = \" \")"
   ]
  },
  {
   "cell_type": "code",
   "execution_count": null,
   "id": "c87598b8",
   "metadata": {},
   "outputs": [],
   "source": [
    "a, b = 1, 1\n",
    "print(a, end = \" \")\n",
    "print(b, end = \" \")\n",
    "for i in range(n - 1):\n",
    "    a, b = b, (a + b)\n",
    "    print(b, end = \" \")"
   ]
  },
  {
   "cell_type": "markdown",
   "id": "b17d4ab4",
   "metadata": {},
   "source": [
    "결론: 파스칼의 삼각형에서 대각선 숫자의 합은 피보나치 수열이 된다."
   ]
  },
  {
   "cell_type": "markdown",
   "id": "ff96d4ff",
   "metadata": {},
   "source": [
    "### Code 5. n번째 행의 숫자를 n으로 나눈 나머지는? (n >= 2)"
   ]
  },
  {
   "cell_type": "code",
   "execution_count": null,
   "id": "c85da237",
   "metadata": {},
   "outputs": [],
   "source": [
    "for i in range(2, n + 1):\n",
    "    print(i, end = \": \")\n",
    "    for j in range(i + 1):\n",
    "        print(T[i][j] % i, end = \" \")\n",
    "    print()"
   ]
  },
  {
   "cell_type": "code",
   "execution_count": null,
   "id": "c06c3429",
   "metadata": {},
   "outputs": [],
   "source": [
    "def is_prime(n):\n",
    "    for i in range(2, int(n**0.5) + 1):\n",
    "        if n % i == 0: \n",
    "            return False\n",
    "    return True"
   ]
  },
  {
   "cell_type": "code",
   "execution_count": null,
   "id": "91859d66",
   "metadata": {},
   "outputs": [],
   "source": [
    "for i in range(2, n + 1):\n",
    "    if is_prime(i):\n",
    "        print(i, end = \": \")\n",
    "        for j in range(1, i):\n",
    "            print(T[i][j] % i, end = \" \")\n",
    "        print()"
   ]
  },
  {
   "cell_type": "markdown",
   "id": "c410af01",
   "metadata": {},
   "source": [
    "결론: 파스칼의 삼각형에서 소수인 p번째 항의 가운데 숫자들은 모두 p의 배수이다."
   ]
  }
 ],
 "metadata": {
  "kernelspec": {
   "display_name": "Python 3 (ipykernel)",
   "language": "python",
   "name": "python3"
  },
  "language_info": {
   "codemirror_mode": {
    "name": "ipython",
    "version": 3
   },
   "file_extension": ".py",
   "mimetype": "text/x-python",
   "name": "python",
   "nbconvert_exporter": "python",
   "pygments_lexer": "ipython3",
   "version": "3.10.0"
  }
 },
 "nbformat": 4,
 "nbformat_minor": 5
}
