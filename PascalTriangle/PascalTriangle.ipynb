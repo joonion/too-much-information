{
 "cells": [
  {
   "cell_type": "markdown",
   "id": "cbed7ab7",
   "metadata": {},
   "source": [
    "### 5개의 코드로 살펴보는 (싱기방기한) 파스칼의 삼각형"
   ]
  },
  {
   "cell_type": "markdown",
   "id": "9a341088",
   "metadata": {},
   "source": [
    "우선, 파스칼의 삼각형을 만들어 보자."
   ]
  },
  {
   "cell_type": "code",
   "execution_count": 1,
   "id": "8d7cff36",
   "metadata": {},
   "outputs": [],
   "source": [
    "def make_triangle(n):\n",
    "    T = [[0] * (i + 1) for i in range(n + 1)]\n",
    "    for i in range(len(T)):\n",
    "        for j in range(len(T[i])):\n",
    "            if j == 0 or j == i:\n",
    "                T[i][j] = 1\n",
    "            else:\n",
    "                T[i][j] = T[i - 1][j - 1] + T[i - 1][j]\n",
    "    return T"
   ]
  },
  {
   "cell_type": "code",
   "execution_count": 3,
   "id": "2d904169",
   "metadata": {},
   "outputs": [
    {
     "name": "stdout",
     "output_type": "stream",
     "text": [
      "Input the number of n: 15\n",
      "1 \n",
      "1 1 \n",
      "1 2 1 \n",
      "1 3 3 1 \n",
      "1 4 6 4 1 \n",
      "1 5 10 10 5 1 \n",
      "1 6 15 20 15 6 1 \n",
      "1 7 21 35 35 21 7 1 \n",
      "1 8 28 56 70 56 28 8 1 \n",
      "1 9 36 84 126 126 84 36 9 1 \n",
      "1 10 45 120 210 252 210 120 45 10 1 \n",
      "1 11 55 165 330 462 462 330 165 55 11 1 \n",
      "1 12 66 220 495 792 924 792 495 220 66 12 1 \n",
      "1 13 78 286 715 1287 1716 1716 1287 715 286 78 13 1 \n",
      "1 14 91 364 1001 2002 3003 3432 3003 2002 1001 364 91 14 1 \n",
      "1 15 105 455 1365 3003 5005 6435 6435 5005 3003 1365 455 105 15 1 \n"
     ]
    }
   ],
   "source": [
    "n = int(input(\"Input the number of n: \"))\n",
    "T = make_triangle(n)\n",
    "for i in range(len(T)):\n",
    "    for j in range(len(T[i])):\n",
    "        print(T[i][j], end = \" \")\n",
    "    print()"
   ]
  },
  {
   "cell_type": "markdown",
   "id": "5b40bb10",
   "metadata": {},
   "source": [
    "### Code 1. 조합의 수 nCk가 T[n][k]와 같다고?"
   ]
  },
  {
   "cell_type": "code",
   "execution_count": 4,
   "id": "69f0a216",
   "metadata": {},
   "outputs": [
    {
     "name": "stdout",
     "output_type": "stream",
     "text": [
      "1 \n",
      "1 1 \n",
      "1 2 1 \n",
      "1 3 3 1 \n",
      "1 4 6 4 1 \n",
      "1 5 10 10 5 1 \n",
      "1 6 15 20 15 6 1 \n",
      "1 7 21 35 35 21 7 1 \n",
      "1 8 28 56 70 56 28 8 1 \n",
      "1 9 36 84 126 126 84 36 9 1 \n",
      "1 10 45 120 210 252 210 120 45 10 1 \n",
      "1 11 55 165 330 462 462 330 165 55 11 1 \n",
      "1 12 66 220 495 792 924 792 495 220 66 12 1 \n",
      "1 13 78 286 715 1287 1716 1716 1287 715 286 78 13 1 \n",
      "1 14 91 364 1001 2002 3003 3432 3003 2002 1001 364 91 14 1 \n",
      "1 15 105 455 1365 3003 5005 6435 6435 5005 3003 1365 455 105 15 1 \n"
     ]
    }
   ],
   "source": [
    "from math import factorial\n",
    "for i in range(n + 1):\n",
    "    for j in range(i + 1):\n",
    "        iCj = factorial(i) // factorial(j) // factorial(i - j)\n",
    "        print(iCj, end = \" \")\n",
    "    print()        "
   ]
  },
  {
   "cell_type": "markdown",
   "id": "3291a4a1",
   "metadata": {},
   "source": [
    "### Code 2. n번째 행의 모든 수들을 합하면?"
   ]
  },
  {
   "cell_type": "code",
   "execution_count": 5,
   "id": "f4374982",
   "metadata": {},
   "outputs": [
    {
     "name": "stdout",
     "output_type": "stream",
     "text": [
      "1 2 4 8 16 32 64 128 256 512 1024 2048 4096 8192 16384 32768 "
     ]
    }
   ],
   "source": [
    "for i in range(n + 1):\n",
    "    print(sum(T[i]), end = \" \")"
   ]
  },
  {
   "cell_type": "code",
   "execution_count": 6,
   "id": "34790ce7",
   "metadata": {},
   "outputs": [
    {
     "name": "stdout",
     "output_type": "stream",
     "text": [
      "1 2 4 8 16 32 64 128 256 512 1024 2048 4096 8192 16384 32768 "
     ]
    }
   ],
   "source": [
    "for i in range(n + 1):\n",
    "    print(2 ** i, end = \" \")"
   ]
  },
  {
   "cell_type": "markdown",
   "id": "3509a28d",
   "metadata": {},
   "source": [
    "결론: 파스칼의 삼각형에서 n번째 행의 수들을 모두 합하면 2^n과 같다."
   ]
  },
  {
   "cell_type": "markdown",
   "id": "5876a335",
   "metadata": {},
   "source": [
    "### Code 3. n번째 행의 모든 수들을 십의 자리수로 만들면?"
   ]
  },
  {
   "cell_type": "code",
   "execution_count": 7,
   "id": "fd6a1c31",
   "metadata": {},
   "outputs": [
    {
     "name": "stdout",
     "output_type": "stream",
     "text": [
      "1\n",
      "11\n",
      "121\n",
      "1331\n",
      "14641\n",
      "161051\n",
      "1771561\n",
      "19487171\n",
      "214358881\n",
      "2357947691\n",
      "25937424601\n",
      "285311670611\n",
      "3138428376721\n",
      "34522712143931\n",
      "379749833583241\n",
      "4177248169415651\n"
     ]
    }
   ],
   "source": [
    "for i in range(n + 1):\n",
    "    S = 0\n",
    "    for j in range(i + 1):\n",
    "        S += T[i][j] * (10 ** (i - j))\n",
    "    print(S)"
   ]
  },
  {
   "cell_type": "code",
   "execution_count": 8,
   "id": "b4855508",
   "metadata": {},
   "outputs": [
    {
     "name": "stdout",
     "output_type": "stream",
     "text": [
      "1\n",
      "11\n",
      "121\n",
      "1331\n",
      "14641\n",
      "161051\n",
      "1771561\n",
      "19487171\n",
      "214358881\n",
      "2357947691\n",
      "25937424601\n",
      "285311670611\n",
      "3138428376721\n",
      "34522712143931\n",
      "379749833583241\n",
      "4177248169415651\n"
     ]
    }
   ],
   "source": [
    "for i in range(n + 1):\n",
    "    print(11 ** i)"
   ]
  },
  {
   "cell_type": "markdown",
   "id": "481f103d",
   "metadata": {},
   "source": [
    "결론: 파스칼의 삼각형에서 n번째 행의 수들을 십의 자리수로 합하면 11^n이 된다."
   ]
  },
  {
   "cell_type": "markdown",
   "id": "f8b41ec1",
   "metadata": {},
   "source": [
    "### Code 4. n번째 행의 첫 항부터 대각선으로 더하면? "
   ]
  },
  {
   "cell_type": "code",
   "execution_count": 9,
   "id": "711cd1ee",
   "metadata": {},
   "outputs": [
    {
     "name": "stdout",
     "output_type": "stream",
     "text": [
      "1 1 2 3 5 8 13 21 34 55 89 144 233 377 610 987 "
     ]
    }
   ],
   "source": [
    "for i in range(n + 1):\n",
    "    row, col = i, 0\n",
    "    S = 0\n",
    "    while row >= 0 and col <= row:\n",
    "        S += T[row][col]\n",
    "        row, col = row - 1, col + 1\n",
    "    print(S, end = \" \")"
   ]
  },
  {
   "cell_type": "code",
   "execution_count": 10,
   "id": "c87598b8",
   "metadata": {},
   "outputs": [
    {
     "name": "stdout",
     "output_type": "stream",
     "text": [
      "1 1 2 3 5 8 13 21 34 55 89 144 233 377 610 987 "
     ]
    }
   ],
   "source": [
    "a, b = 1, 1\n",
    "print(a, end = \" \")\n",
    "print(b, end = \" \")\n",
    "for i in range(n - 1):\n",
    "    a, b = b, (a + b)\n",
    "    print(b, end = \" \")"
   ]
  },
  {
   "cell_type": "markdown",
   "id": "b17d4ab4",
   "metadata": {},
   "source": [
    "결론: 파스칼의 삼각형에서 대각선 숫자의 합은 피보나치 수열이 된다."
   ]
  },
  {
   "cell_type": "markdown",
   "id": "ff96d4ff",
   "metadata": {},
   "source": [
    "### Code 5. n번째 행의 숫자를 n으로 나눈 나머지는? (n >= 2)"
   ]
  },
  {
   "cell_type": "code",
   "execution_count": 11,
   "id": "c85da237",
   "metadata": {},
   "outputs": [
    {
     "name": "stdout",
     "output_type": "stream",
     "text": [
      "2: 1 0 1 \n",
      "3: 1 0 0 1 \n",
      "4: 1 0 2 0 1 \n",
      "5: 1 0 0 0 0 1 \n",
      "6: 1 0 3 2 3 0 1 \n",
      "7: 1 0 0 0 0 0 0 1 \n",
      "8: 1 0 4 0 6 0 4 0 1 \n",
      "9: 1 0 0 3 0 0 3 0 0 1 \n",
      "10: 1 0 5 0 0 2 0 0 5 0 1 \n",
      "11: 1 0 0 0 0 0 0 0 0 0 0 1 \n",
      "12: 1 0 6 4 3 0 0 0 3 4 6 0 1 \n",
      "13: 1 0 0 0 0 0 0 0 0 0 0 0 0 1 \n",
      "14: 1 0 7 0 7 0 7 2 7 0 7 0 7 0 1 \n",
      "15: 1 0 0 5 0 3 10 0 0 10 3 0 5 0 0 1 \n"
     ]
    }
   ],
   "source": [
    "for i in range(2, n + 1):\n",
    "    print(i, end = \": \")\n",
    "    for j in range(i + 1):\n",
    "        print(T[i][j] % i, end = \" \")\n",
    "    print()"
   ]
  },
  {
   "cell_type": "code",
   "execution_count": 12,
   "id": "c06c3429",
   "metadata": {},
   "outputs": [],
   "source": [
    "def is_prime(n):\n",
    "    for i in range(2, int(n**0.5) + 1):\n",
    "        if n % i == 0: \n",
    "            return False\n",
    "    return True"
   ]
  },
  {
   "cell_type": "code",
   "execution_count": 13,
   "id": "91859d66",
   "metadata": {},
   "outputs": [
    {
     "name": "stdout",
     "output_type": "stream",
     "text": [
      "2: 0 \n",
      "3: 0 0 \n",
      "5: 0 0 0 0 \n",
      "7: 0 0 0 0 0 0 \n",
      "11: 0 0 0 0 0 0 0 0 0 0 \n",
      "13: 0 0 0 0 0 0 0 0 0 0 0 0 \n"
     ]
    }
   ],
   "source": [
    "for i in range(2, n + 1):\n",
    "    if is_prime(i):\n",
    "        print(i, end = \": \")\n",
    "        for j in range(1, i):\n",
    "            print(T[i][j] % i, end = \" \")\n",
    "        print()"
   ]
  },
  {
   "cell_type": "markdown",
   "id": "c410af01",
   "metadata": {},
   "source": [
    "결론: 파스칼의 삼각형에서 소수인 p번째 항의 가운데 숫자들은 모두 p의 배수이다."
   ]
  }
 ],
 "metadata": {
  "kernelspec": {
   "display_name": "Python 3 (ipykernel)",
   "language": "python",
   "name": "python3"
  },
  "language_info": {
   "codemirror_mode": {
    "name": "ipython",
    "version": 3
   },
   "file_extension": ".py",
   "mimetype": "text/x-python",
   "name": "python",
   "nbconvert_exporter": "python",
   "pygments_lexer": "ipython3",
   "version": "3.8.12"
  }
 },
 "nbformat": 4,
 "nbformat_minor": 5
}
