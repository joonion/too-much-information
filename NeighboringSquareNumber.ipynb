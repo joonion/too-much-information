{
  "nbformat": 4,
  "nbformat_minor": 0,
  "metadata": {
    "colab": {
      "name": "NeighboringSquareNumber.ipynb",
      "private_outputs": true,
      "provenance": [],
      "collapsed_sections": [],
      "authorship_tag": "ABX9TyOCSTABLFHMlqvGRH9F/RKw",
      "include_colab_link": true
    },
    "kernelspec": {
      "name": "python3",
      "display_name": "Python 3"
    },
    "language_info": {
      "name": "python"
    }
  },
  "cells": [
    {
      "cell_type": "markdown",
      "metadata": {
        "id": "view-in-github",
        "colab_type": "text"
      },
      "source": [
        "<a href=\"https://colab.research.google.com/github/joonion/too-much-information/blob/main/NeighboringSquareNumber.ipynb\" target=\"_parent\"><img src=\"https://colab.research.google.com/assets/colab-badge.svg\" alt=\"Open In Colab\"/></a>"
      ]
    },
    {
      "cell_type": "markdown",
      "metadata": {
        "id": "WDiwqoTZGUP2"
      },
      "source": [
        "## 이웃한 제곱수의 사이클\n",
        "\n",
        "Problem: Write down the numbers 1-32 in a circle so that the sum of two arbirary neighbors is a square number.\n",
        "\n",
        "문제: 1에서 32까지의 자연수를 서로 이웃한 숫자들의 합이 제곱수가 되도록 원으로 배치하라."
      ]
    },
    {
      "cell_type": "code",
      "metadata": {
        "id": "BbqksmStsR8q"
      },
      "source": [
        "from math import sqrt\n",
        "N = 32\n",
        "squares = [i**2 for i in range(2, int(sqrt(2*N-1)) + 1)]\n",
        "print(squares)"
      ],
      "execution_count": null,
      "outputs": []
    },
    {
      "cell_type": "code",
      "metadata": {
        "id": "A0aQr_nqsaue"
      },
      "source": [
        "for i in range(1, N + 1):\n",
        "    for j in range(i + 1, N + 1):\n",
        "        if (i + j) in squares:\n",
        "            print(i, j)"
      ],
      "execution_count": null,
      "outputs": []
    },
    {
      "cell_type": "code",
      "metadata": {
        "id": "egkL4tTDsfiu"
      },
      "source": [
        "from math import sqrt\n",
        "\n",
        "def createGraph(N):\n",
        "    squares = [i**2 for i in range(2, int(sqrt(2*N-1)) + 1)]\n",
        "    graph = {i: [] for i in range(1, N + 1)}\n",
        "    for i in range(1, N + 1):\n",
        "        for j in range(i + 1, N + 1):\n",
        "            if (i + j) in squares:\n",
        "                graph[i].append(j)\n",
        "                graph[j].append(i)\n",
        "    return graph    "
      ],
      "execution_count": null,
      "outputs": []
    },
    {
      "cell_type": "code",
      "metadata": {
        "id": "UC06Wgvhsj5K"
      },
      "source": [
        "N = 32\n",
        "graph = createGraph(32)\n",
        "for v in graph.keys():\n",
        "    print(v, \":\", graph[v])"
      ],
      "execution_count": null,
      "outputs": []
    },
    {
      "cell_type": "code",
      "metadata": {
        "id": "NCm9Q9CcGXyg"
      },
      "source": [
        "import networkx as nx\n",
        "N = 32\n",
        "graph = createGraph(N)\n",
        "nxgraph = nx.Graph()\n",
        "nxgraph.add_nodes_from([i for i in range(1, N + 1)])\n",
        "for u in graph.keys():\n",
        "    for v in graph[u]:\n",
        "        nxgraph.add_edge(u, v)\n",
        "pos = nx.spectral_layout(nxgraph)\n",
        "nx.draw_networkx(nxgraph, pos=pos, with_labels=True)"
      ],
      "execution_count": null,
      "outputs": []
    },
    {
      "cell_type": "code",
      "metadata": {
        "id": "2H8hyZbKsx0w"
      },
      "source": [
        "def hamiltonCycle(graph, vertex, path):\n",
        "    if len(path) == len(graph) and vertex in graph[path[0]]:\n",
        "        print(path)\n",
        "    else:\n",
        "        for neighbor in graph[vertex]:\n",
        "            if neighbor not in path:\n",
        "                path.append(neighbor)\n",
        "                hamiltonCycle(graph, neighbor, path)\n",
        "                path.pop()"
      ],
      "execution_count": null,
      "outputs": []
    },
    {
      "cell_type": "code",
      "metadata": {
        "id": "d7GFwgb-s2CV"
      },
      "source": [
        "N = 32\n",
        "graph = createGraph(N)\n",
        "path = [1]\n",
        "hamiltonCycle(graph, path[0], path)"
      ],
      "execution_count": null,
      "outputs": []
    },
    {
      "cell_type": "code",
      "metadata": {
        "id": "Oi2OumoTGdwF"
      },
      "source": [
        "import networkx as nx\n",
        "solution = [1, 8, 28, 21, 4, 32, 17, 19, 30, 6, 3, 13, 12, 24, 25, 11, 5, 31, 18, 7, 29, 20, 16, 9, 27, 22, 14, 2, 23, 26, 10, 15]\n",
        "nxg = nx.Graph()\n",
        "nxg.add_nodes_from([i for i in range(1, N + 1)])\n",
        "for i in range(len(solution)):\n",
        "    nxg.add_edge(solution[i - 1], solution[i])\n",
        "pos = nx.spectral_layout(nxg)\n",
        "nx.draw_networkx(nxg, pos=pos, with_labels=True)"
      ],
      "execution_count": null,
      "outputs": []
    },
    {
      "cell_type": "code",
      "metadata": {
        "id": "eJyUikk4Nm-0"
      },
      "source": [
        "def cycleCount(graph, vertex, path):\n",
        "    global count\n",
        "    if len(path) == len(graph) and vertex in graph[path[0]]:\n",
        "        count += 1\n",
        "    else:\n",
        "        for neighbor in graph[vertex]:\n",
        "            if neighbor not in path:\n",
        "                path.append(neighbor)\n",
        "                cycleCount(graph, neighbor, path)\n",
        "                path.pop()"
      ],
      "execution_count": null,
      "outputs": []
    },
    {
      "cell_type": "code",
      "metadata": {
        "id": "hMcuS0nwvnq0"
      },
      "source": [
        "count = 0\n",
        "for N in range(2, 36):\n",
        "    graph = createGraph(N)\n",
        "    path = [1]\n",
        "    count = 0\n",
        "    cycleCount(graph, path[0], path)\n",
        "    print(f\"The number of solutions for {N} is {count//2}.\")"
      ],
      "execution_count": null,
      "outputs": []
    },
    {
      "cell_type": "code",
      "metadata": {
        "id": "iIxks6gfwCqU"
      },
      "source": [
        ""
      ],
      "execution_count": null,
      "outputs": []
    }
  ]
}